{
 "cells": [
  {
   "cell_type": "markdown",
   "id": "a03d2c99",
   "metadata": {},
   "source": [
    "# Project Report TDT4173\n",
    "\n",
    "The purpose of this report is to summarize all steps taken in our group in order to find fitting models/algorithms to the problem at hand. This will include exploratory data analysis, feature engineering, variuos predictors including boosting/bagging, as well as feature and model interpretations."
   ]
  },
  {
   "cell_type": "markdown",
   "id": "3e0d562e",
   "metadata": {},
   "source": [
    "## Exploratory data analysis:\n",
    "\n",
    "The purpose of performing an exploratory data analysis is to get an understanding of the different types of data included in the problem and their relations. This will be useful when creating models in order to understand why different models perform a certain way as how feature engineering can help improve performance. "
   ]
  },
  {
   "cell_type": "markdown",
   "id": "ab14e180",
   "metadata": {},
   "source": [
    "### Steps taken\n",
    "\n",
    "This section describes all the steps taken in the exploratory data analysis. All steps taken are to be included here and may include old steps not discussed further. "
   ]
  },
  {
   "cell_type": "code",
   "execution_count": 8,
   "id": "971b5636",
   "metadata": {},
   "outputs": [],
   "source": [
    "import numpy as np\n",
    "import pandas as pd\n",
    "import matplotlib.pyplot as plt\n",
    "import xgboost"
   ]
  },
  {
   "cell_type": "code",
   "execution_count": 9,
   "id": "838ab5d9",
   "metadata": {},
   "outputs": [],
   "source": [
    "\n",
    "model = xgboost.XGBClassifier()\n",
    "\n",
    "\n"
   ]
  },
  {
   "cell_type": "markdown",
   "id": "49baf54a",
   "metadata": {},
   "source": []
  }
 ],
 "metadata": {
  "kernelspec": {
   "display_name": "my-env",
   "language": "python",
   "name": "python3"
  },
  "language_info": {
   "codemirror_mode": {
    "name": "ipython",
    "version": 3
   },
   "file_extension": ".py",
   "mimetype": "text/x-python",
   "name": "python",
   "nbconvert_exporter": "python",
   "pygments_lexer": "ipython3",
   "version": "3.11.5"
  }
 },
 "nbformat": 4,
 "nbformat_minor": 5
}
