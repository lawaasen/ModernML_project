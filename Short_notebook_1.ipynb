{
 "cells": [
  {
   "cell_type": "markdown",
   "id": "b3da8fe4",
   "metadata": {},
   "source": [
    "# Necessary steps for Kaggle prediction 1\n"
   ]
  },
  {
   "cell_type": "markdown",
   "id": "23af90d5",
   "metadata": {},
   "source": []
  }
 ],
 "metadata": {
  "language_info": {
   "name": "python"
  }
 },
 "nbformat": 4,
 "nbformat_minor": 5
}
