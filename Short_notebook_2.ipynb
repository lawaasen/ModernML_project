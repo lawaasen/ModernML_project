{
 "cells": [
  {
   "cell_type": "markdown",
   "id": "bf376902",
   "metadata": {},
   "source": [
    "# Necessary steps for Kaggle prediction 1\n"
   ]
  },
  {
   "cell_type": "markdown",
   "id": "72b82226",
   "metadata": {},
   "source": []
  }
 ],
 "metadata": {
  "language_info": {
   "name": "python"
  }
 },
 "nbformat": 4,
 "nbformat_minor": 5
}
